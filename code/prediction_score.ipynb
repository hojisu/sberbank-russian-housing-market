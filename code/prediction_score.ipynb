{
 "cells": [
  {
   "cell_type": "code",
   "execution_count": 1,
   "metadata": {},
   "outputs": [],
   "source": [
    "def rmsle(predicted,real):\n",
    "    s=0.0\n",
    "    for x in range(len(predicted)):\n",
    "        if predicted[x] <= 0: \n",
    "            Exception('값이 마이너스가 될수 없습니다.')\n",
    "        p = np.log(predicted[x]+1)\n",
    "        r = np.log(real[x]+1)\n",
    "        s = s + (p - r)**2\n",
    "    return (s/len(predicted))**0.5"
   ]
  },
  {
   "cell_type": "code",
   "execution_count": 2,
   "metadata": {},
   "outputs": [],
   "source": [
    "real = pd.read_csv('./data/sample_submission.csv', index_col=0)\n",
    "pred = pd.read_csv('./data/stats_models_2019_10_28_20_48_49.csv', index_col=0)"
   ]
  },
  {
   "cell_type": "code",
   "execution_count": 10,
   "metadata": {},
   "outputs": [],
   "source": [
    "p = np.log(real)+1"
   ]
  },
  {
   "cell_type": "code",
   "execution_count": 11,
   "metadata": {},
   "outputs": [],
   "source": [
    "r =np.log(pred)+1"
   ]
  },
  {
   "cell_type": "code",
   "execution_count": 14,
   "metadata": {},
   "outputs": [
    {
     "name": "stdout",
     "output_type": "stream",
     "text": [
      "       price_doc\n",
      "id              \n",
      "30474   0.076745\n",
      "30475   0.072984\n",
      "30476   0.022399\n",
      "30477   0.036512\n",
      "30478   0.391413\n",
      "30479   0.075194\n",
      "30480   0.142606\n",
      "30481   0.518467\n",
      "30482   0.291925\n",
      "30483   0.559820\n",
      "30484   0.141515\n",
      "30485   0.399563\n",
      "30486   0.687029\n",
      "30487   0.360448\n",
      "30488   0.228209\n",
      "30489   0.090627\n",
      "30490   0.951666\n",
      "30491   0.834453\n",
      "30492   0.020685\n",
      "30493   0.742140\n",
      "30494   0.023542\n",
      "30495   0.375421\n",
      "30496   0.411591\n",
      "30497   0.386617\n",
      "30498   0.176549\n",
      "30499   0.559250\n",
      "30500   0.423526\n",
      "30501   0.096851\n",
      "30502   0.659921\n",
      "30503   0.102625\n",
      "...          ...\n",
      "38106   0.180604\n",
      "38107   0.537462\n",
      "38108   0.567143\n",
      "38109   0.200495\n",
      "38110   0.361974\n",
      "38111   0.217159\n",
      "38112   0.424643\n",
      "38113   0.178422\n",
      "38114   0.137400\n",
      "38115   0.459329\n",
      "38116   0.059650\n",
      "38117   0.432676\n",
      "38118   0.289581\n",
      "38119   0.463805\n",
      "38120   0.107594\n",
      "38121   0.105145\n",
      "38122   0.426559\n",
      "38123   0.204770\n",
      "38124   0.018415\n",
      "38125   0.364323\n",
      "38126   0.468300\n",
      "38127   0.798098\n",
      "38128   1.208980\n",
      "38129   0.507042\n",
      "38130   0.258732\n",
      "38131   0.503267\n",
      "38132   0.198331\n",
      "38133   0.365104\n",
      "38134   0.018186\n",
      "38135   0.480409\n",
      "\n",
      "[7662 rows x 1 columns]\n"
     ]
    }
   ],
   "source": [
    "s = 0.0\n",
    "for x in range(len(pred)):\n",
    "    p = p = np.log(real)+1\n",
    "    r =np.log(pred)+1\n",
    "    s = s + (p - r)**2\n",
    "    result = (s/len(pred))**0.5\n",
    "print(result)"
   ]
  },
  {
   "cell_type": "code",
   "execution_count": 23,
   "metadata": {},
   "outputs": [],
   "source": [
    "from sklearn.metrics import make_scorer\n",
    "import numpy as np\n",
    "\n",
    "def rmsle(pred, real):\n",
    "\t# 넘파이로 배열 형태로 바꿔줌.  \n",
    "    predicted_values = pred.values\n",
    "    actual_values = real.values\n",
    "    \n",
    "  # 예측값과 실제 값에 1을 더하고 로그를 씌어줌 \n",
    "    log_predict = np.log(predicted_values + 1)\n",
    "    log_actual = np.log(actual_values + 1)\n",
    "    \n",
    "  # 위에서 계산한 예측값에서 실측값을 빼주고 제곱해줌\n",
    "    difference = log_predict - log_actual\n",
    "    difference = np.square(difference)\n",
    "    \n",
    "  # 평균을 냄\n",
    "    mean_difference = difference.mean()\n",
    "    \n",
    "  # 다시 루트를 씌움\n",
    "    score = np.sqrt(mean_difference)  \n",
    "    \n",
    "    return score"
   ]
  },
  {
   "cell_type": "code",
   "execution_count": 16,
   "metadata": {},
   "outputs": [
    {
     "data": {
      "text/plain": [
       "array([[7118500.41],\n",
       "       [7118500.41],\n",
       "       [7118500.41],\n",
       "       ...,\n",
       "       [7118500.41],\n",
       "       [7118500.41],\n",
       "       [7118500.41]])"
      ]
     },
     "execution_count": 16,
     "metadata": {},
     "output_type": "execute_result"
    }
   ],
   "source": [
    "real.values"
   ]
  },
  {
   "cell_type": "code",
   "execution_count": 17,
   "metadata": {},
   "outputs": [
    {
     "data": {
      "text/plain": [
       "array([[ 6592625.3750339 ],\n",
       "       [ 7657465.521045  ],\n",
       "       [ 6960825.44106875],\n",
       "       ...,\n",
       "       [ 4941126.4780513 ],\n",
       "       [ 6990212.75105994],\n",
       "       [11508731.36838791]])"
      ]
     },
     "execution_count": 17,
     "metadata": {},
     "output_type": "execute_result"
    }
   ],
   "source": [
    "pred.values"
   ]
  },
  {
   "cell_type": "code",
   "execution_count": 24,
   "metadata": {},
   "outputs": [
    {
     "data": {
      "text/plain": [
       "0.41524656787682346"
      ]
     },
     "execution_count": 24,
     "metadata": {},
     "output_type": "execute_result"
    }
   ],
   "source": [
    "rmsle(pred, real)"
   ]
  },
  {
   "cell_type": "code",
   "execution_count": 25,
   "metadata": {},
   "outputs": [],
   "source": [
    "import utils.error_calculator as ec"
   ]
  },
  {
   "cell_type": "code",
   "execution_count": 27,
   "metadata": {},
   "outputs": [],
   "source": [
    "score = ec.rmsle(pred, real)"
   ]
  },
  {
   "cell_type": "code",
   "execution_count": 28,
   "metadata": {},
   "outputs": [
    {
     "data": {
      "text/plain": [
       "0.41524656787682346"
      ]
     },
     "execution_count": 28,
     "metadata": {},
     "output_type": "execute_result"
    }
   ],
   "source": [
    "score"
   ]
  },
  {
   "cell_type": "code",
   "execution_count": null,
   "metadata": {},
   "outputs": [],
   "source": []
  }
 ],
 "metadata": {
  "kernelspec": {
   "display_name": "Python 3",
   "language": "python",
   "name": "python3"
  },
  "language_info": {
   "codemirror_mode": {
    "name": "ipython",
    "version": 3
   },
   "file_extension": ".py",
   "mimetype": "text/x-python",
   "name": "python",
   "nbconvert_exporter": "python",
   "pygments_lexer": "ipython3",
   "version": "3.6.8"
  }
 },
 "nbformat": 4,
 "nbformat_minor": 2
}
