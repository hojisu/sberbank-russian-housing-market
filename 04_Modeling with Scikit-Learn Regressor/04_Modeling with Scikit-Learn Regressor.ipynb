{
 "cells": [
  {
   "cell_type": "markdown",
   "metadata": {},
   "source": [
    "# Modeling with Scikit-Learn Regressor"
   ]
  },
  {
   "cell_type": "markdown",
   "metadata": {},
   "source": [
    "## 1. Preprocessing\n",
    "- Lable-Encoding\n",
    "- Log nomalization\n",
    "- Standard scaling"
   ]
  },
  {
   "cell_type": "markdown",
   "metadata": {},
   "source": [
    "# 2. Regressors : Scikit-Learn\n",
    "- DecisionTree Regressor\n",
    "- RandomForest Regressor\n",
    "- Support Vector Regressor\n",
    "- XGB Regressor\n",
    "- Cross-validation "
   ]
  },
  {
   "cell_type": "markdown",
   "metadata": {},
   "source": [
    "# 3. Score by Model"
   ]
  },
  {
   "cell_type": "code",
   "execution_count": 1,
   "metadata": {},
   "outputs": [],
   "source": [
    "%matplotlib inline\n",
    "pd.options.mode.chained_assignment = None\n",
    "pd.set_option('display.max_columns', 500)\n",
    "pd.set_option('display.max_rows', 500)\n",
    "import warnings\n",
    "warnings.filterwarnings('ignore')\n",
    "import seaborn as sns\n",
    "import matplotlib.pylab as plt\n",
    "import numpy as np\n",
    "from scipy import stats\n",
    "import sys\n",
    "import os\n",
    "sys.path.append(os.path.dirname(os.path.abspath(os.path.dirname('github'))))\n",
    "import utils.statsmodel_helper as sh\n",
    "import utils.feature_selection as fs\n",
    "import utils.preprocessing as pp\n",
    "import utils.error_calculator as ec\n",
    "import utils.helpermodeling as hm\n",
    "from scipy import stats\n",
    "\n",
    "from sklearn.model_selection import train_test_split, ShuffleSplit\n",
    "from sklearn.model_selection import KFold, ParameterGrid, cross_val_score, cross_val_predict, GridSearchCV\n",
    "\n",
    "from sklearn.metrics import mean_squared_error, mean_absolute_error\n",
    "from sklearn.metrics import r2_score, explained_variance_score\n",
    "\n",
    "# model import\n",
    "from sklearn.ensemble import RandomForestRegressor\n",
    "from sklearn.tree import DecisionTreeRegressor\n",
    "from sklearn.svm import SVR\n",
    "import xgboost as xgb\n",
    "\n",
    "from sklearn.preprocessing import LabelEncoder, StandardScaler\n",
    "from sklearn.pipeline import Pipeline\n",
    "\n",
    "cv = KFold(n_splits=10, shuffle=True, random_state=1)"
   ]
  },
  {
   "cell_type": "code",
   "execution_count": 2,
   "metadata": {},
   "outputs": [],
   "source": [
    "def show_results(y_test, pred, measured, preds):\n",
    "    print('\\n')\n",
    "    print(\"Train Test Split\")\n",
    "    print('RMSE:', np.sqrt(mean_squared_error(y_test, pred)))\n",
    "\n",
    "    print('\\n')\n",
    "    print(\"Cross Validation\")\n",
    "    print('RMSE:', np.sqrt(mean_squared_error(measured, preds)))\n",
    "\n",
    "    fig  = plt.figure(figsize=(8, 4), dpi=100)\n",
    "    axes1 = fig.add_subplot(121)\n",
    "    axes1.scatter(y_test, pred, c='red', s=5)\n",
    "    axes1.plot([y_test.min(), y_test.max()], [y_test.min(), y_test.max()], 'k--', lw=2)\n",
    "    axes1.set_title(\"Train Test Split\")\n",
    "    axes1.set_xlabel('Measured')\n",
    "    axes1.set_ylabel('Predicted')\n",
    "    axes2 = fig.add_subplot(122)\n",
    "    axes2.scatter(measured, preds, c='red', s=5)\n",
    "    axes2.plot([y_test.min(), y_test.max()], [y_test.min(), y_test.max()], 'k--', lw=2)\n",
    "    axes2.set_title(\"Cross Validation\")\n",
    "    axes2.set_xlabel('Measured')\n",
    "    axes2.set_ylabel('Predicted')\n",
    "    fig.tight_layout()\n",
    "    \n",
    "    fig  = plt.figure(figsize=(8, 4), dpi=100);\n",
    "    axes1 = fig.add_subplot(121); \n",
    "    axes1.scatter(y_test, y_test-pred, c='red', s=2)\n",
    "    axes1.set_title(\"Train Test Split\")\n",
    "    axes1.set_xlabel('Measured')\n",
    "    axes1.set_ylabel('Residual')\n",
    "    axes2 = fig.add_subplot(122); \n",
    "    axes2.scatter(measured, measured-preds, c='red', s=2)\n",
    "    axes2.set_title(\"Cross Validation\")\n",
    "    axes2.set_xlabel('Measured')\n",
    "    axes2.set_ylabel('Residual')\n",
    "    fig.tight_layout();\n",
    "    \n",
    "    fig  = plt.figure(figsize=(8, 4), dpi=100)\n",
    "    axes1 = fig.add_subplot(121)\n",
    "    axes2 = fig.add_subplot(122)\n",
    "    sns.distplot((y_test-pred), bins=50, ax=axes1, axlabel='Error Deviation', kde_kws={\"color\": \"k\", \"lw\": 1.5, \"gridsize\":1000}, hist_kws={\"linewidth\": 3, \"alpha\": 0.6, \"color\": \"red\"})\n",
    "    sns.distplot((measured-preds), bins=50, ax=axes2, axlabel='Error Deviation', kde_kws={\"color\": \"k\", \"lw\": 1.5, \"gridsize\":1000}, hist_kws={\"linewidth\": 3, \"alpha\": 0.6, \"color\": \"red\"})\n",
    "    axes1.set_title(\"Train Test Split\")\n",
    "    axes2.set_title(\"Cross Validation\")\n",
    "    axes1.set_xlim(-3, 3)\n",
    "    axes2.set_xlim(-3, 3)\n",
    "    "
   ]
  },
  {
   "cell_type": "code",
   "execution_count": 3,
   "metadata": {},
   "outputs": [],
   "source": [
    "df_train = pd.read_csv('../input/train_macro_without_outliers.csv', index_col=0, parse_dates=['timestamp'])\n",
    "df_train_augmented = pd.read_csv('../input/train_macro_with_outliers.csv', index_col=0, parse_dates=['timestamp'])\n",
    "df_test = pd.read_csv('../input/test_macro.csv', index_col=0, parse_dates=['timestamp'])"
   ]
  },
  {
   "cell_type": "markdown",
   "metadata": {},
   "source": [
    "## 1. Preprocessing"
   ]
  },
  {
   "cell_type": "code",
   "execution_count": 34,
   "metadata": {},
   "outputs": [
    {
     "name": "stdout",
     "output_type": "stream",
     "text": [
      "(24976, 243) (30404, 243) (32638, 242)\n"
     ]
    }
   ],
   "source": [
    "print(df_train.shape, df_train_augmented.shape, df_test.shape)"
   ]
  },
  {
   "cell_type": "code",
   "execution_count": 5,
   "metadata": {},
   "outputs": [],
   "source": [
    "cate_features = [\n",
    " 'detention_facility_raion',\n",
    " 'culture_objects_top_25',\n",
    " 'railroad_1line',\n",
    " 'big_market_raion',\n",
    " 'incineration_raion',\n",
    " 'big_road1_1line',\n",
    " 'radiation_raion',\n",
    " 'railroad_terminal_raion',\n",
    " 'ecology',\n",
    " 'thermal_power_plant_raion',\n",
    " 'oil_chemistry_raion',\n",
    " 'nuclear_reactor_raion',\n",
    " 'product_type',\n",
    " 'water_1line'\n",
    "]\n",
    "\n",
    "numeric_features = list(df_train.columns.drop(cate_features + ['price_doc'] + ['timestamp']).values)"
   ]
  },
  {
   "cell_type": "markdown",
   "metadata": {},
   "source": [
    "### Lable-Encoding"
   ]
  },
  {
   "cell_type": "code",
   "execution_count": 6,
   "metadata": {},
   "outputs": [],
   "source": [
    "for f in cate_features:\n",
    "    df_train[f].fillna(df_train[f].value_counts().index[0], inplace=True)\n",
    "    df_test[f].fillna(df_test[f].value_counts().index[0], inplace=True)\n",
    "    df_train_augmented[f].fillna(df_train_augmented[f].value_counts().index[0], inplace=True)\n",
    "    \n",
    "    lbl = LabelEncoder()\n",
    "    lbl.fit(df_train[f].values)\n",
    "    df_train[f] = lbl.transform(df_train[f].values)\n",
    "    df_test[f] = lbl.transform(df_test[f].values)\n",
    "    df_train_augmented[f] = LabelEncoder().fit_transform(df_train_augmented[f].values)"
   ]
  },
  {
   "cell_type": "markdown",
   "metadata": {},
   "source": [
    "### Log nomalizaion"
   ]
  },
  {
   "cell_type": "code",
   "execution_count": 7,
   "metadata": {},
   "outputs": [],
   "source": [
    "# Log Normalization of Numeric Features\n",
    "for column in numeric_features + ['price_doc']:\n",
    "    if stats.skew(df_train[column].values) > 1:\n",
    "        df_train[column] = np.log(df_train[column] + 1)  \n",
    "        df_train_augmented[column] = np.log(df_train_augmented[column] + 1)\n",
    "        if column in df_test.columns.values:\n",
    "            df_test[column]  = np.log(df_test[column] + 1)"
   ]
  },
  {
   "cell_type": "markdown",
   "metadata": {},
   "source": [
    "### Standard scaling"
   ]
  },
  {
   "cell_type": "code",
   "execution_count": 8,
   "metadata": {},
   "outputs": [],
   "source": [
    "# 평균 0 표준편차 1이 되도록 스케일링\n",
    "train_scaler = StandardScaler()\n",
    "train_scaler.fit(df_train[numeric_features])\n",
    "\n",
    "scaled_numeric_train_X = train_scaler.transform(df_train[numeric_features])\n",
    "df_scaled_numeric_train_X = pd.DataFrame(scaled_numeric_train_X, index=df_train.index, columns=numeric_features)\n",
    "df_train = pd.concat([df_scaled_numeric_train_X, df_train[cate_features], df_train['price_doc']], axis=1)\n",
    "\n",
    "scaled_numeric_test_X = train_scaler.transform(df_test[numeric_features])\n",
    "df_scaled_numeric_test_X = pd.DataFrame(scaled_numeric_test_X, index=df_test.index, columns=numeric_features)\n",
    "df_test = pd.concat([df_scaled_numeric_test_X, df_train[cate_features]], axis=1)\n",
    "\n",
    "scaled_numeric_train_X = train_scaler.transform(df_train_augmented[numeric_features])\n",
    "df_scaled_numeric_train_X = pd.DataFrame(scaled_numeric_train_X, index=df_train_augmented.index, columns=numeric_features)\n",
    "df_train_augmented = pd.concat([df_scaled_numeric_train_X, df_train_augmented[cate_features], df_train_augmented['price_doc']],axis=1)"
   ]
  },
  {
   "cell_type": "markdown",
   "metadata": {},
   "source": [
    "# 2. Regressors : Scikit-Learn\n",
    "- Decision Tree Regressor\n",
    "- RandomForest Regressor\n",
    "- Support Vector Regressor\n",
    "- XGB(Extreme Gradient Boosting) Regressor\n",
    "- Cross-validation"
   ]
  },
  {
   "cell_type": "code",
   "execution_count": 9,
   "metadata": {},
   "outputs": [],
   "source": [
    "X_train, X_test, y_train, y_test = train_test_split(df_train[numeric_features+cate_features], df_train['price_doc'], test_size=0.2, random_state=1)"
   ]
  },
  {
   "cell_type": "markdown",
   "metadata": {},
   "source": [
    "### Decision Tree Regressor"
   ]
  },
  {
   "cell_type": "code",
   "execution_count": 10,
   "metadata": {},
   "outputs": [
    {
     "name": "stdout",
     "output_type": "stream",
     "text": [
      "______________________________________________\n",
      "Decision Tree Regressor\n",
      "______________________________________________\n",
      "R2 score. Train:  0.9999983775091627\n",
      "R2 score. Test:  0.8904869546933241\n",
      "______________________________________________\n",
      "MSE score. Train:  2.571249335533897e-07\n",
      "MSE score. Test:  0.01831843398703886\n",
      "______________________________________________\n",
      "RMSE score. Train:  0.0005070748796315882\n",
      "RMSE score. Test:  0.0005070748796315882\n",
      "______________________________________________\n",
      "MAE score. Train:  1.2031462530497244e-05\n",
      "MAE score. Test:  0.09416988102997606\n"
     ]
    }
   ],
   "source": [
    "dtr = DecisionTreeRegressor()\n",
    "y_train_dtr, y_test_dtr = hm.regression(dtr, X_train, X_test, y_train)\n",
    "hm.scores('Decision Tree Regressor', y_train, y_test, y_train_dtr, y_test_dtr)"
   ]
  },
  {
   "cell_type": "markdown",
   "metadata": {},
   "source": [
    "## RandomForest Regressor"
   ]
  },
  {
   "cell_type": "code",
   "execution_count": 11,
   "metadata": {},
   "outputs": [
    {
     "name": "stdout",
     "output_type": "stream",
     "text": [
      "______________________________________________\n",
      "RandomForest Regressor\n",
      "______________________________________________\n",
      "R2 score. Train:  0.9889840785381349\n",
      "R2 score. Test:  0.9417057505697886\n",
      "______________________________________________\n",
      "MSE score. Train:  0.0017457528934233509\n",
      "MSE score. Test:  0.009750978589088778\n",
      "______________________________________________\n",
      "RMSE score. Train:  0.04178220785721299\n",
      "RMSE score. Test:  0.04178220785721299\n",
      "______________________________________________\n",
      "MAE score. Train:  0.027956660269124283\n",
      "MAE score. Test:  0.0702270327181524\n"
     ]
    }
   ],
   "source": [
    "rfr = RandomForestRegressor()\n",
    "y_train_rfr, y_test_rfr = hm.regression(rfr, X_train, X_test, y_train)\n",
    "hm.scores('RandomForest Regressor', y_train, y_test, y_train_rfr, y_test_rfr)"
   ]
  },
  {
   "cell_type": "markdown",
   "metadata": {},
   "source": [
    "## Support Vector Regressor"
   ]
  },
  {
   "cell_type": "code",
   "execution_count": 12,
   "metadata": {},
   "outputs": [
    {
     "name": "stdout",
     "output_type": "stream",
     "text": [
      "______________________________________________\n",
      "Support Vector Regressor\n",
      "______________________________________________\n",
      "R2 score. Train:  0.9357326739411266\n",
      "R2 score. Test:  0.9314934784178499\n",
      "______________________________________________\n",
      "MSE score. Train:  0.010184792149095805\n",
      "MSE score. Test:  0.011459202780545517\n",
      "______________________________________________\n",
      "RMSE score. Train:  0.100919731217913\n",
      "RMSE score. Test:  0.100919731217913\n",
      "______________________________________________\n",
      "MAE score. Train:  0.08159051016507356\n",
      "MAE score. Test:  0.084696464226569\n"
     ]
    }
   ],
   "source": [
    "svr = SVR(gamma='scale', C=1.0, epsilon=0.2)\n",
    "y_train_rfr, y_test_rfr = hm.regression(svr, X_train, X_test, y_train)\n",
    "hm.scores('Support Vector Regressor', y_train, y_test, y_train_rfr, y_test_rfr)"
   ]
  },
  {
   "cell_type": "markdown",
   "metadata": {},
   "source": [
    "## XGB Regressor"
   ]
  },
  {
   "cell_type": "code",
   "execution_count": 13,
   "metadata": {},
   "outputs": [
    {
     "name": "stdout",
     "output_type": "stream",
     "text": [
      "XGBRegressor(base_score=0.5, booster='gbtree', colsample_bylevel=1,\n",
      "       colsample_bytree=0.5, gamma=0, learning_rate=0.1, max_delta_step=0,\n",
      "       max_depth=10, min_child_weight=1, missing=None, n_estimators=200,\n",
      "       n_jobs=1, nthread=None, objective='reg:linear', random_state=0,\n",
      "       reg_alpha=0, reg_lambda=1, scale_pos_weight=1, seed=None,\n",
      "       silent=True, subsample=1)\n"
     ]
    }
   ],
   "source": [
    "param_grid = [{\n",
    "    'max_depth': [10],\n",
    "    'learning_rate' : [0.1],\n",
    "    'n_estimators' : [200], \n",
    "    'colsample_bytree': [0.5]\n",
    "}]\n",
    "\n",
    "xgr = xgb.XGBRegressor()\n",
    "grid_xgr = GridSearchCV(xgr, param_grid, cv=cv, n_jobs=4, scoring='neg_mean_squared_log_error')\n",
    "grid_xgr.fit(X_train, y_train)\n",
    "print(grid_xgr.best_estimator_)"
   ]
  },
  {
   "cell_type": "code",
   "execution_count": 14,
   "metadata": {},
   "outputs": [],
   "source": [
    "xgr = xgb.XGBRegressor(base_score=0.5, booster='gbtree', colsample_bylevel=1,\n",
    "       colsample_bytree=0.5, gamma=0, learning_rate=0.1, max_delta_step=0,\n",
    "       max_depth=10, min_child_weight=1, missing=None, n_estimators=200,\n",
    "       n_jobs=1, nthread=None, objective='reg:linear', random_state=0,\n",
    "       reg_alpha=0, reg_lambda=1, scale_pos_weight=1, seed=None,\n",
    "       silent=True, subsample=1)"
   ]
  },
  {
   "cell_type": "code",
   "execution_count": 15,
   "metadata": {},
   "outputs": [
    {
     "name": "stdout",
     "output_type": "stream",
     "text": [
      "______________________________________________\n",
      "XGB Regressor\n",
      "______________________________________________\n",
      "R2 score. Train:  0.9947698927852873\n",
      "R2 score. Test:  0.9576152979198477\n",
      "______________________________________________\n",
      "MSE score. Train:  0.0008288434911783736\n",
      "MSE score. Test:  0.007089761452083816\n",
      "______________________________________________\n",
      "RMSE score. Train:  0.028789642081456547\n",
      "RMSE score. Test:  0.028789642081456547\n",
      "______________________________________________\n",
      "MAE score. Train:  0.021077327875507146\n",
      "MAE score. Test:  0.061100109560602744\n"
     ]
    }
   ],
   "source": [
    "y_train_xgr, y_test_xgr = hm.regression(xgr, X_train, X_test, y_train)\n",
    "hm.scores('XGB Regressor', y_train, y_test, y_train_xgr, y_test_xgr)"
   ]
  },
  {
   "cell_type": "markdown",
   "metadata": {},
   "source": [
    "## Cross Validation"
   ]
  },
  {
   "cell_type": "code",
   "execution_count": 16,
   "metadata": {},
   "outputs": [],
   "source": [
    "dtr_r2 = cross_val_score(dtr, X_train, y_train, scoring='r2', cv=cv)\n",
    "rfr_r2 = cross_val_score(rfr, X_train, y_train, scoring='r2', cv=cv)\n",
    "svr_r2 = cross_val_score(svr, X_train, y_train, scoring='r2', cv=cv)\n",
    "xgr_r2 = cross_val_score(xgr, X_train, y_train, scoring='r2', cv=cv)"
   ]
  },
  {
   "cell_type": "code",
   "execution_count": 17,
   "metadata": {},
   "outputs": [],
   "source": [
    "r2_score = pd.DataFrame({'DecisionTreeRegressor' : dtr_r2, 'RandomForestRegressor' : rfr_r2, 'SupportVectorRegressor' : svr_r2, 'XGBRegressor' : xgr_r2})"
   ]
  },
  {
   "cell_type": "code",
   "execution_count": 19,
   "metadata": {},
   "outputs": [
    {
     "data": {
      "image/png": "[encoded data removed]",
      "text/plain": [
       "<Figure size 864x504 with 1 Axes>"
      ]
     },
     "metadata": {
      "needs_background": "light"
     },
     "output_type": "display_data"
    }
   ],
   "source": [
    "## boxplot\n",
    "plt.figure(figsize=(12, 7))\n",
    "r2_score.boxplot(column= ['DecisionTreeRegressor', 'RandomForestRegressor', 'SupportVectorRegressor', 'XGBRegressor']) \n",
    "plt.xticks(size = 10, rotation=45)\n",
    "plt.yticks(size = 10)\n",
    "plt.title('r2 by Model')\n",
    "plt.ylabel(\"r2\")\n",
    "plt.show()"
   ]
  }
 ],
 "metadata": {
  "kernelspec": {
   "display_name": "Python 3",
   "language": "python",
   "name": "python3"
  },
  "language_info": {
   "codemirror_mode": {
    "name": "ipython",
    "version": 3
   },
   "file_extension": ".py",
   "mimetype": "text/x-python",
   "name": "python",
   "nbconvert_exporter": "python",
   "pygments_lexer": "ipython3",
   "version": "3.6.8"
  }
 },
 "nbformat": 4,
 "nbformat_minor": 2
}
